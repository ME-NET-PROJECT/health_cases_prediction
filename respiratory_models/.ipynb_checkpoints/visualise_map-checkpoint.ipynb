{
 "cells": [
  {
   "cell_type": "markdown",
   "id": "92258b70-9db3-40d2-b799-c615bc3aa479",
   "metadata": {},
   "source": [
    "## Visualise Predictions and actuals on Map\n",
    "There are two results supported. The regression of the ground ozone value prediction and prediction as low=0, medium=1, high=2 and very high = 4"
   ]
  },
  {
   "cell_type": "markdown",
   "id": "b6074b94-35b2-4551-9572-f81f964299f1",
   "metadata": {},
   "source": [
    "### Import Libraries"
   ]
  },
  {
   "cell_type": "code",
   "execution_count": 5,
   "id": "723ca00a-f822-4d12-beda-630cbaa87872",
   "metadata": {},
   "outputs": [],
   "source": [
    "import pandas as pd\n",
    "import numpy as np\n",
    "from pathlib import Path\n",
    "import geopandas as gpd\n",
    "import geodatasets, os\n",
    "import matplotlib.pyplot as plt\n",
    "import cartopy.crs as ccrs\n",
    "import cartopy.feature as cfeature\n",
    "from scipy.interpolate import griddata\n",
    "from scipy.spatial import cKDTree\n",
    "from datetime import datetime, timedelta\n",
    "\n",
    "import folium\n",
    "import seaborn as sns"
   ]
  },
  {
   "cell_type": "markdown",
   "id": "20cfba97-f02d-47e8-a79f-ec3dc3a2c654",
   "metadata": {},
   "source": [
    "### Declare Constants"
   ]
  },
  {
   "cell_type": "code",
   "execution_count": 2,
   "id": "5e9a4a87-8cf0-4cce-91fe-a2293c7c4029",
   "metadata": {},
   "outputs": [],
   "source": [
    "dataset_folder = \"datasets/UK/\"\n",
    "model_dataset = \"aurn_cams_respiratory\"\n",
    "shapely_file = \"datasets/ne_110m_admin_0_countries/ne_110m_admin_0_countries.shp\"\n",
    "models = [\"lstm\", \"bi_lstm\", \"gru\", \"bi_gru\", \"ensemble\"]\n",
    "start_date = '2024-01-05'\n",
    "period = 7  # in days\n",
    "lon_min, lon_max, lat_min, lat_max = -8.5, 1.8, 49.5, 60.8  # Longitude bounds for the UK"
   ]
  },
  {
   "cell_type": "markdown",
   "id": "671eb1d7-d185-42b5-8b17-903f24bcb9b4",
   "metadata": {},
   "source": [
    "### Create Output Directory"
   ]
  },
  {
   "cell_type": "code",
   "execution_count": 3,
   "id": "409ef252-4238-44b5-852d-98ed4ce56358",
   "metadata": {},
   "outputs": [],
   "source": [
    "def create_output_dir(path):\n",
    "    \"\"\"Creates output directory if not exists.\"\"\"\n",
    "    os.makedirs(path, exist_ok=True)"
   ]
  },
  {
   "cell_type": "markdown",
   "id": "16b8569d-cb9e-497b-aceb-62ccbf0f6b9d",
   "metadata": {},
   "source": [
    "### The Function that Plots the Prediction"
   ]
  },
  {
   "cell_type": "code",
   "execution_count": null,
   "id": "6c46967b-4f6c-4e7d-8fc4-e30359b6cca0",
   "metadata": {},
   "outputs": [],
   "source": [
    "def plot_health_cases(df, out_column=None, output_dir=None, output_file=None, vmin=1, vmax=200, plot_v2=False):\n",
    "    \n",
    "    # Create figure with PlateCarree projection\n",
    "    fig, ax = plt.subplots(figsize=(10, 6), subplot_kw={'projection': ccrs.PlateCarree()})\n",
    "    \n",
    "    # Set map extent to focus on the UK\n",
    "    ax.set_extent([lon_min, lon_max, lat_min, lat_max])\n",
    "    \n",
    "    # Add map features\n",
    "    ax.add_feature(cfeature.COASTLINE, edgecolor='gray')\n",
    "    ax.add_feature(cfeature.BORDERS, linestyle=\":\", edgecolor='gray')\n",
    "    \n",
    "    # Define colormap\n",
    "    cmap = plt.get_cmap('rainbow_r')\n",
    "    norm = matplotlib.colors.Normalize(vmin=df[out_column].min(), vmax=df[out_column].max())\n",
    "\n",
    "    # Plot the data points with colors representing case numbers\n",
    "    scatter = ax.scatter(\n",
    "        df[\"Longitude\"], df[\"Latitude\"], \n",
    "        c=df[out_column], cmap=cmap,  # Dynamic color mapping\n",
    "        linewidth=0.8, s=100, edgecolors='black',  \n",
    "        vmin=vmin, vmax=vmax  # Use specified color range\n",
    "    )\n",
    "    \n",
    "    # Add case numbers as text inside circles with matching background color\n",
    "    for x, y, case in zip(df[\"Longitude\"], df[\"Latitude\"], df[out_column]):\n",
    "        case_color = cmap(norm(case))  # Get corresponding color from colormap\n",
    "        plt.text(\n",
    "            x, y, str(case), fontsize=12, ha=\"center\", va=\"center\",\n",
    "            color=\"white\", fontweight=\"bold\",\n",
    "            bbox=dict(facecolor=case_color, edgecolor=\"black\", boxstyle=\"circle,pad=0.3\")  \n",
    "        )\n",
    "    \n",
    "    # Add colorbar\n",
    "    cbar = fig.colorbar(scatter, ax=ax, orientation=\"vertical\")\n",
    "    cbar.set_label(\"Number of Cases\", rotation=270, labelpad=15)\n",
    "\n",
    "    # Add small text with output file name at bottom-left of the map\n",
    "    if output_file:\n",
    "        plt.text(\n",
    "            0.02, 0.02, f\"File: {output_file}\", transform=ax.transAxes,\n",
    "            fontsize=8, color=\"black\", ha=\"left\", va=\"bottom\",\n",
    "            bbox=dict(facecolor=\"white\", alpha=0.5, edgecolor=\"none\")\n",
    "        )\n",
    "\n",
    "    # Save plot\n",
    "    plt.savefig(output_dir / Path(output_file), dpi=300, bbox_inches='tight')\n",
    "    plt.close()\n",
    "    print(f\"Plot saved as {output_dir}/{output_file}\")\n"
   ]
  },
  {
   "cell_type": "code",
   "execution_count": 31,
   "id": "9297701b-5699-4551-bf28-7d14ae68b4ba",
   "metadata": {
    "jupyter": {
     "source_hidden": true
    }
   },
   "outputs": [],
   "source": [
    "def plot_health_cases_folium(df, out_column=None, output_dir=None, output_file=None):\n",
    "    \n",
    "    results_csv = Path(dataset_folder) / Path(model_dataset) / Path('results') / Path(f\"{model}\") / Path(f\"{model}_predictions.csv\")\n",
    "    output_dir = Path(dataset_folder) / Path(model_dataset) / Path('results') / Path(f\"{model}\") / Path('visualise')\n",
    "    \n",
    "    # Create the base output directory\n",
    "    create_output_dir(output_dir)\n",
    "\n",
    "    \n",
    "    # Define the center of the map based on the average location\n",
    "    map_center = [df[\"Latitude\"].mean(), df[\"Longitude\"].mean()]\n",
    "    \n",
    "    # Create a Folium map centered on the average location\n",
    "    m = folium.Map(location=map_center, zoom_start=6, tiles=\"cartodbpositron\")\n",
    "\n",
    "    # Add circle markers to the map\n",
    "    for _, row in df.iterrows():\n",
    "        folium.CircleMarker(\n",
    "            location=[row[\"Latitude\"], row[\"Longitude\"]],\n",
    "            radius=max(5, row[out_column] / 2),  # Adjust circle size\n",
    "            color=\"blue\",\n",
    "            fill=True,\n",
    "            fill_color=\"blue\",\n",
    "            fill_opacity=0.6,\n",
    "            popup=folium.Popup(f\"Cases: {row[out_column]}\", parse_html=True),\n",
    "        ).add_to(m)\n",
    "\n",
    "        # Add the case number as text on the map (tooltip)\n",
    "        folium.Marker(\n",
    "            location=[row[\"Latitude\"], row[\"Longitude\"]],\n",
    "            icon=folium.DivIcon(html=f'<div style=\"font-size: 12px; color: black; font-weight: bold;\">{row[out_column]}</div>')\n",
    "        ).add_to(m)\n",
    "\n",
    "    # Save the map to an HTML file\n",
    "    m.save(output_dir / Path(output_file))\n",
    "    print(f\"Interactive map saved as {output_dir / Path(output_file)}\")\n",
    "\n",
    "    return m  # Return the map object for display in Jupyter Notebook (optional)\n",
    "\n"
   ]
  },
  {
   "cell_type": "code",
   "execution_count": 27,
   "id": "79cf4953-4bfe-4d49-a01f-3c6be068db08",
   "metadata": {
    "jupyter": {
     "source_hidden": true
    }
   },
   "outputs": [],
   "source": [
    "# def plot_health_cases(df, out_column=None, output_dir=None, output_file=None, vmin=1, vmax=200, plot_v2=False):\n",
    "    \n",
    "#     # Create figure with PlateCarree projection\n",
    "#     fig, ax = plt.subplots(figsize=(10, 6), subplot_kw={'projection': ccrs.PlateCarree()})\n",
    "    \n",
    "#     # Set map extent to focus on the UK\n",
    "#     ax.set_extent([lon_min, lon_max, lat_min, lat_max])\n",
    "    \n",
    "#     # Add map features\n",
    "#     ax.add_feature(cfeature.COASTLINE, edgecolor='gray')\n",
    "#     ax.add_feature(cfeature.BORDERS, linestyle=\":\", edgecolor='gray')\n",
    "    \n",
    "#     # Plot the data points with colors representing case numbers\n",
    "#     scatter = ax.scatter(\n",
    "#         df[\"Longitude\"], df[\"Latitude\"], \n",
    "#         c=df[out_column], cmap='rainbow_r',  # Colormap (inverse rainbow for better contrast)\n",
    "#         linewidth=0.8, s=100, edgecolors='black',  # Circle size and edges\n",
    "#         vmin=df[out_column].min(), vmax=df[out_column].max()  # Color range\n",
    "#     )\n",
    "    \n",
    "#     # Add case numbers as text inside circles\n",
    "#     for x, y, case in zip(df[\"Longitude\"], df[\"Latitude\"], df[out_column]):\n",
    "#         plt.text(\n",
    "#             x, y, str(case), fontsize=12, ha=\"center\", va=\"center\",\n",
    "#             color=\"white\", fontweight=\"bold\",\n",
    "#             bbox=dict(facecolor=\"blue\", edgecolor=\"black\", boxstyle=\"circle,pad=0.3\")  # Circular text background\n",
    "#         )\n",
    "    \n",
    "#     # Add colorbar\n",
    "#     cbar = fig.colorbar(scatter, ax=ax, orientation=\"vertical\")\n",
    "#     cbar.set_label(\"Number of Cases\", rotation=270, labelpad=15)\n",
    "\n",
    "#     # Create output directory if not exists\n",
    "#     create_output_dir(output_dir)\n",
    "\n",
    "#     # Save plot\n",
    "#     plt.savefig(output_dir / Path(output_file), dpi=300, bbox_inches='tight')\n",
    "#     plt.close()\n",
    "#     print(f\"Plot saved as {output_dir}/{output_file}\")\n",
    "    \n"
   ]
  },
  {
   "cell_type": "markdown",
   "id": "864245ac-d995-47f4-b674-d1c51a39416c",
   "metadata": {},
   "source": [
    "### The Function that process the model data for plotting"
   ]
  },
  {
   "cell_type": "code",
   "execution_count": 32,
   "id": "f74e5063-65ae-40d8-b3f1-845e0990c1ab",
   "metadata": {},
   "outputs": [],
   "source": [
    "def process_model_data(model, start_date, period):\n",
    "    \"\"\"\n",
    "    Process each model's predictions, plot them and save to respective directories.\n",
    "    \"\"\"\n",
    "    results_csv = Path(dataset_folder) / Path(model_dataset) / Path('results') / Path(f\"{model}\") / Path(f\"{model}_predictions.csv\")\n",
    "    output_dir = Path(dataset_folder) / Path(model_dataset) / Path('results') / Path(f\"{model}\") / Path('visualise')\n",
    "    \n",
    "    # Create the base output directory\n",
    "    create_output_dir(output_dir)\n",
    "\n",
    "    # Load the results CSV into a DataFrame\n",
    "    df = pd.read_csv(results_csv, parse_dates=['Time'], dayfirst=True)\n",
    "\n",
    "    # Convert start_date string to datetime object\n",
    "    if isinstance(start_date, str):\n",
    "        start_date = datetime.strptime(start_date, '%Y-%m-%d')\n",
    "\n",
    "    for i in range(period):\n",
    "        current_date = start_date + timedelta(days=i)\n",
    "        df['Time'] = pd.to_datetime(df['Time']).dt.date\n",
    "        \n",
    "        # Filter DataFrame for the current date and drop NaN values\n",
    "        filtered_df = df[df['Time'] == current_date.date()].dropna()\n",
    "\n",
    "        # Plot predictions, actual values, deciles for predicted and actual values\n",
    "        plot_health_cases(filtered_df, out_column=\"Predicted_Value\", output_dir=output_dir / 'Predicted', \n",
    "                 output_file=f\"{current_date.date()}.png\", vmin=1, vmax=238)\n",
    "\n",
    "        plot_health_cases(filtered_df, out_column=\"True_Value\", output_dir=output_dir / 'Actual', \n",
    "                 output_file=f\"{current_date.date()}.png\", vmin=1, vmax=238)\n",
    "\n",
    "        # plot_health_cases_folium(\n",
    "        #     filtered_df, \n",
    "        #     out_column=\"True_Value\", \n",
    "        #     output_dir=output_dir / 'Actual', \n",
    "        #     output_file=f\"{current_date.date()}.html\"\n",
    "        # )\n",
    "\n",
    "    "
   ]
  },
  {
   "cell_type": "markdown",
   "id": "279b883e-6602-4105-bdbc-819c904f9677",
   "metadata": {},
   "source": [
    "### The Main Loop to Generate all the plots for the various models"
   ]
  },
  {
   "cell_type": "code",
   "execution_count": 35,
   "id": "283c18d2-0281-4784-9a56-1ce2931e67b6",
   "metadata": {},
   "outputs": [
    {
     "name": "stdout",
     "output_type": "stream",
     "text": [
      "Interactive map saved as datasets\\UK\\aurn_cams_respiratory\\results\\lstm\\visualise\\2024-01-05.html\n",
      "Interactive map saved as datasets\\UK\\aurn_cams_respiratory\\results\\lstm\\visualise\\2024-01-06.html\n",
      "Interactive map saved as datasets\\UK\\aurn_cams_respiratory\\results\\lstm\\visualise\\2024-01-07.html\n",
      "Interactive map saved as datasets\\UK\\aurn_cams_respiratory\\results\\lstm\\visualise\\2024-01-08.html\n",
      "Interactive map saved as datasets\\UK\\aurn_cams_respiratory\\results\\lstm\\visualise\\2024-01-09.html\n",
      "Interactive map saved as datasets\\UK\\aurn_cams_respiratory\\results\\lstm\\visualise\\2024-01-10.html\n",
      "Interactive map saved as datasets\\UK\\aurn_cams_respiratory\\results\\lstm\\visualise\\2024-01-11.html\n",
      "Interactive map saved as datasets\\UK\\aurn_cams_respiratory\\results\\bi_lstm\\visualise\\2024-01-05.html\n",
      "Interactive map saved as datasets\\UK\\aurn_cams_respiratory\\results\\bi_lstm\\visualise\\2024-01-06.html\n",
      "Interactive map saved as datasets\\UK\\aurn_cams_respiratory\\results\\bi_lstm\\visualise\\2024-01-07.html\n",
      "Interactive map saved as datasets\\UK\\aurn_cams_respiratory\\results\\bi_lstm\\visualise\\2024-01-08.html\n",
      "Interactive map saved as datasets\\UK\\aurn_cams_respiratory\\results\\bi_lstm\\visualise\\2024-01-09.html\n",
      "Interactive map saved as datasets\\UK\\aurn_cams_respiratory\\results\\bi_lstm\\visualise\\2024-01-10.html\n",
      "Interactive map saved as datasets\\UK\\aurn_cams_respiratory\\results\\bi_lstm\\visualise\\2024-01-11.html\n",
      "Interactive map saved as datasets\\UK\\aurn_cams_respiratory\\results\\gru\\visualise\\2024-01-05.html\n",
      "Interactive map saved as datasets\\UK\\aurn_cams_respiratory\\results\\gru\\visualise\\2024-01-06.html\n",
      "Interactive map saved as datasets\\UK\\aurn_cams_respiratory\\results\\gru\\visualise\\2024-01-07.html\n",
      "Interactive map saved as datasets\\UK\\aurn_cams_respiratory\\results\\gru\\visualise\\2024-01-08.html\n",
      "Interactive map saved as datasets\\UK\\aurn_cams_respiratory\\results\\gru\\visualise\\2024-01-09.html\n",
      "Interactive map saved as datasets\\UK\\aurn_cams_respiratory\\results\\gru\\visualise\\2024-01-10.html\n",
      "Interactive map saved as datasets\\UK\\aurn_cams_respiratory\\results\\gru\\visualise\\2024-01-11.html\n",
      "Interactive map saved as datasets\\UK\\aurn_cams_respiratory\\results\\bi_gru\\visualise\\2024-01-05.html\n",
      "Interactive map saved as datasets\\UK\\aurn_cams_respiratory\\results\\bi_gru\\visualise\\2024-01-06.html\n",
      "Interactive map saved as datasets\\UK\\aurn_cams_respiratory\\results\\bi_gru\\visualise\\2024-01-07.html\n",
      "Interactive map saved as datasets\\UK\\aurn_cams_respiratory\\results\\bi_gru\\visualise\\2024-01-08.html\n",
      "Interactive map saved as datasets\\UK\\aurn_cams_respiratory\\results\\bi_gru\\visualise\\2024-01-09.html\n",
      "Interactive map saved as datasets\\UK\\aurn_cams_respiratory\\results\\bi_gru\\visualise\\2024-01-10.html\n",
      "Interactive map saved as datasets\\UK\\aurn_cams_respiratory\\results\\bi_gru\\visualise\\2024-01-11.html\n",
      "Interactive map saved as datasets\\UK\\aurn_cams_respiratory\\results\\ensemble\\visualise\\2024-01-05.html\n",
      "Interactive map saved as datasets\\UK\\aurn_cams_respiratory\\results\\ensemble\\visualise\\2024-01-06.html\n",
      "Interactive map saved as datasets\\UK\\aurn_cams_respiratory\\results\\ensemble\\visualise\\2024-01-07.html\n",
      "Interactive map saved as datasets\\UK\\aurn_cams_respiratory\\results\\ensemble\\visualise\\2024-01-08.html\n",
      "Interactive map saved as datasets\\UK\\aurn_cams_respiratory\\results\\ensemble\\visualise\\2024-01-09.html\n",
      "Interactive map saved as datasets\\UK\\aurn_cams_respiratory\\results\\ensemble\\visualise\\2024-01-10.html\n",
      "Interactive map saved as datasets\\UK\\aurn_cams_respiratory\\results\\ensemble\\visualise\\2024-01-11.html\n"
     ]
    }
   ],
   "source": [
    "# Main execution loop for all models\n",
    "for model in models:\n",
    "    process_model_data(model, start_date, period)\n"
   ]
  }
 ],
 "metadata": {
  "kernelspec": {
   "display_name": "Python 3 (ipykernel)",
   "language": "python",
   "name": "python3"
  },
  "language_info": {
   "codemirror_mode": {
    "name": "ipython",
    "version": 3
   },
   "file_extension": ".py",
   "mimetype": "text/x-python",
   "name": "python",
   "nbconvert_exporter": "python",
   "pygments_lexer": "ipython3",
   "version": "3.10.14"
  }
 },
 "nbformat": 4,
 "nbformat_minor": 5
}
